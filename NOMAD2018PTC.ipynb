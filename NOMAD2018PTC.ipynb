{
 "cells": [
  {
   "cell_type": "code",
   "execution_count": null,
   "metadata": {
    "_cell_guid": "2ec02281-0a28-4d44-bf6a-de08e33bc149",
    "_kg_hide-input": false,
    "_kg_hide-output": true,
    "_uuid": "5a18d88c59ba1e66b02ce0e6262330e04bb0767e",
    "collapsed": true
   },
   "outputs": [],
   "source": [
    "# --- Загружаем модули ------------------------------------\n",
    "import numpy as np # линейка\n",
    "import pandas as pd # обработка данных, загрузка CSV\n",
    "\n",
    "from sklearn.grid_search import GridSearchCV\n",
    "\n",
    "from sklearn import preprocessing\n",
    "from sklearn.cross_validation import train_test_split    \n",
    "from sklearn.decomposition import PCA # размерности \n",
    "from sklearn.model_selection import KFold\n",
    "\n",
    "import lightgbm as lgb\n",
    "from subprocess import check_output\n",
    "import re"
   ]
  },
  {
   "cell_type": "code",
   "execution_count": null,
   "metadata": {
    "_cell_guid": "3dfd7661-2aa2-4ad6-b4db-e226a2fb04e9",
    "_uuid": "5fb2d86c1031a5f7d3b94fb11e6052f8961e087c",
    "collapsed": true
   },
   "outputs": [],
   "source": [
    "K = 10\n",
    "MAX_ROUNDS = 2500\n",
    "Oxy = 1\n",
    "Clear = 1\n",
    "Electro = 1"
   ]
  },
  {
   "cell_type": "code",
   "execution_count": null,
   "metadata": {
    "_cell_guid": "ac558e24-6209-45dc-a4af-defe01964767",
    "_uuid": "2a60fe7b84f63ffaaeea21e29cdaeb0888f2de5e",
    "collapsed": true
   },
   "outputs": [],
   "source": [
    "def Floated(DS):\n",
    "    DS.Ga_0 = DS.Ga_0.astype(\"float\"); DS.Ga_1 = DS.Ga_1.astype(\"float\"); DS.Ga_2 = DS.Ga_2.astype(\"float\"); DS.Ga_3 = DS.Ga_3.astype(\"float\"); DS.Ga_4 = DS.Ga_4.astype(\"float\"); DS.Ga_5 = DS.Ga_5.astype(\"float\")\n",
    "    DS.Al_0 = DS.Al_0.astype(\"float\"); DS.Al_1 = DS.Al_1.astype(\"float\"); DS.Al_2 = DS.Al_2.astype(\"float\"); DS.Al_3 = DS.Al_3.astype(\"float\"); DS.Al_4 = DS.Al_4.astype(\"float\"); DS.Al_5 = DS.Al_5.astype(\"float\")\n",
    "    DS.In_0 = DS.In_0.astype(\"float\"); DS.In_1 = DS.In_1.astype(\"float\"); DS.In_2 = DS.In_2.astype(\"float\"); DS.In_3 = DS.In_3.astype(\"float\"); DS.In_4 = DS.In_4.astype(\"float\"); DS.In_5 = DS.In_5.astype(\"float\")\n",
    "    DS.O_0 = DS.O_0.astype(\"float\");   DS.O_1 = DS.O_1.astype(\"float\");   DS.O_2 = DS.O_2.astype(\"float\");   DS.O_3 = DS.O_3.astype(\"float\");   DS.O_4 = DS.O_4.astype(\"float\");   DS.O_5 = DS.O_5.astype(\"float\")"
   ]
  },
  {
   "cell_type": "code",
   "execution_count": null,
   "metadata": {
    "_cell_guid": "42dd8d6f-516e-471d-b0c0-de6cb09fd091",
    "_uuid": "a33213dd5c8e48fbe914e6a11a0b4fc735b3a0f6",
    "collapsed": true
   },
   "outputs": [],
   "source": [
    "# --- функции -------------------------\n",
    "train0 = pd.read_csv(\"../input/train.csv\"); test0 = pd.read_csv(\"../input/test.csv\")"
   ]
  },
  {
   "cell_type": "code",
   "execution_count": null,
   "metadata": {
    "_cell_guid": "a69e7d3e-46fa-4821-a05d-039025895005",
    "_uuid": "a087be83cf444607928c0207263ff8d39c48c133",
    "collapsed": true
   },
   "outputs": [],
   "source": [
    "def get_xyz_data(filename):\n",
    "    pos_data = []; lat_data = []\n",
    "    with open(filename) as f:\n",
    "        for line in f.readlines():\n",
    "            x = line.split()\n",
    "            if x[0] == 'atom':\n",
    "                pos_data.append([np.array(x[1:4], dtype=np.float),x[4]])\n",
    "    return pos_data"
   ]
  },
  {
   "cell_type": "code",
   "execution_count": null,
   "metadata": {
    "_cell_guid": "ab881100-2a32-47bb-871b-39789361e953",
    "_uuid": "7e6bf1b8ae1117bb697192c1850b316a44e0f034",
    "collapsed": true
   },
   "outputs": [],
   "source": [
    "def CreateCols(X_cols,Name):\n",
    "    for i in range(6):\n",
    "        X_cols.append(Name+str(i))"
   ]
  },
  {
   "cell_type": "code",
   "execution_count": null,
   "metadata": {
    "_cell_guid": "85a31721-9e94-499b-99d8-2b082c7816a1",
    "_uuid": "5ca1b638b7ef98034293b23797545d316915881d",
    "collapsed": true
   },
   "outputs": [],
   "source": [
    "def Append2List(li, X_list, Name):\n",
    "        try:\n",
    "            if li[1] == Name:\n",
    "                X_list.append(li[0])\n",
    "        except:\n",
    "            pass"
   ]
  },
  {
   "cell_type": "code",
   "execution_count": null,
   "metadata": {
    "_cell_guid": "5193230d-5982-4496-8400-e59bcb9a79c3",
    "_uuid": "cd5daa78dded0de8fb098f2db9e7bd0b0d812b0d",
    "collapsed": true
   },
   "outputs": [],
   "source": [
    "def PCA_Fit(i, X_list, X_cols):\n",
    "    try:\n",
    "        model = PCA(n_components=2)\n",
    "        X_list = np.array(X_list)\n",
    "        temp_X = model.fit_transform(X_list.transpose())\n",
    "        temp_X = [item for sublist in temp_X for item in sublist]\n",
    "    except:\n",
    "        temp_X = [0,0,0,0,0,0]\n",
    "    temp_X = pd.DataFrame(temp_X).transpose()\n",
    "    temp_X.columns = X_cols\n",
    "    temp_X.index = np.array([i])\n",
    "    return temp_X"
   ]
  },
  {
   "cell_type": "code",
   "execution_count": null,
   "metadata": {
    "_cell_guid": "385b581a-85c1-4718-bec5-e7837dd23998",
    "_uuid": "923be60794ace704d0a61bbdfd8b51434fcb95d5",
    "collapsed": true
   },
   "outputs": [],
   "source": [
    "def LoadData(DATA_F, Name):\n",
    "    ga_df = pd.DataFrame(columns = ga_cols); al_df = pd.DataFrame(columns = al_cols); in_df = pd.DataFrame(columns = in_cols); o_df  = pd.DataFrame(columns = o_cols)\n",
    "    for i in DATA_F.id.values:\n",
    "        fn = \"../input/\"+Name+\"/{}/geometry.xyz\".format(i)\n",
    "        xyz = get_xyz_data(fn)\n",
    "        ga_list = []; al_list = []; in_list = []; o_list = []\n",
    "        for li in xyz:\n",
    "            Append2List(li, ga_list, \"Ga\");  Append2List(li, al_list, \"Al\"); Append2List(li, in_list, \"In\"); Append2List(li, o_list,  \"O\")\n",
    "\n",
    "        ga_df = pd.concat([ga_df, PCA_Fit(i, ga_list, ga_cols)]); al_df = pd.concat([al_df, PCA_Fit(i, al_list, al_cols)]); in_df = pd.concat([in_df, PCA_Fit(i, in_list, in_cols)]); o_df  = pd.concat([o_df,  PCA_Fit(i, o_list,  o_cols)])\n",
    "    \n",
    "    ga_df[\"id\"] = ga_df.index; al_df[\"id\"] = al_df.index; in_df[\"id\"] = in_df.index; o_df[\"id\"]  = o_df.index\n",
    "\n",
    "    DATA_F = pd.merge(DATA_F, ga_df, on = [\"id\"], how = \"left\"); DATA_F = pd.merge(DATA_F, al_df, on = [\"id\"], how = \"left\"); DATA_F = pd.merge(DATA_F, o_df,  on = [\"id\"], how = \"left\"); DATA_F = pd.merge(DATA_F, in_df, on = [\"id\"], how = \"left\")\n",
    "    Floated(DATA_F)\n",
    "    if Oxy == 1:\n",
    "        DATA_F['number_of_oxy'] = DATA_F['number_of_total_atoms'] * 0.6\n",
    "    if Electro == 1:\n",
    "        DATA_F['Electro_Ga'] = DATA_F['percent_atom_ga']      * 0.4 * 1.81\n",
    "        DATA_F['Electro_Al'] = DATA_F['percent_atom_al']      * 0.4 * 1.61\n",
    "        DATA_F['Electro_In'] = DATA_F['percent_atom_in']      * 0.4 * 1.78\n",
    "        DATA_F['Electro_O'] = DATA_F['number_of_total_atoms'] * 0.6 * 3.44\n",
    "    return DATA_F"
   ]
  },
  {
   "cell_type": "code",
   "execution_count": null,
   "metadata": {
    "_cell_guid": "84b37236-3fd2-48d6-b9c1-a39afe146a4e",
    "_uuid": "2458a0912afd083fe67514713a9d9382b68b14fb",
    "collapsed": true
   },
   "outputs": [],
   "source": [
    "def Clear_(dtrain, dtest):    \n",
    "    all_df = pd.concat([dtrain, dtest], ignore_index=True)\n",
    "    all_df[\"directory\"] = ['test' if np.isnan(bg) else 'train' for bg in all_df.bandgap_energy_ev.values]\n",
    "    geom_data = []\n",
    "    for row in all_df.itertuples():\n",
    "        File='../input/' + row.directory + '/{}/geometry.xyz'.format(row.id)\n",
    "        with open(File) as f:\n",
    "            text = f.read()\n",
    "            geom_data.append(text)\n",
    "    \n",
    "    same_geoms = []\n",
    "    TotLen=len(dtrain)\n",
    "    for i in range(len(geom_data)):\n",
    "        for j in range(i):\n",
    "            if geom_data[i] == geom_data[j]:\n",
    "                if i < TotLen:\n",
    "                    same_geoms.append(i)\n",
    "                if j < TotLen:\n",
    "                    same_geoms.append(j)\n",
    "    same_geoms.sort()\n",
    "    dtrain = dtrain.drop(same_geoms)\n",
    "    dtrain = dtrain.reset_index(drop=True)\n",
    "    return dtrain, dtest"
   ]
  },
  {
   "cell_type": "code",
   "execution_count": null,
   "metadata": {
    "_cell_guid": "3ed3d89a-f3a5-4abc-9427-e80777353256",
    "_uuid": "a343091b6221f20b09cbd6926b77e46d6380ed13",
    "collapsed": true
   },
   "outputs": [],
   "source": [
    "ga_cols = []; al_cols = []; in_cols = []; o_cols  = []\n",
    "CreateCols(ga_cols, \"Ga_\"); CreateCols(al_cols, \"Al_\"); CreateCols(in_cols, \"In_\"); CreateCols(o_cols,  \"O_\")\n",
    "train = LoadData(train0, \"train\");\n",
    "train['formation_energy_ev_natom'] = np.log1p(train['formation_energy_ev_natom'].values)      \n",
    "train['bandgap_energy_ev']         = np.log1p(train['bandgap_energy_ev'].values)      \n",
    "test  = LoadData(test0,  \"test\")\n",
    "if Clear == 1:\n",
    "    train, test = Clear_(train, test)"
   ]
  },
  {
   "cell_type": "code",
   "execution_count": null,
   "metadata": {
    "_cell_guid": "927a4391-7e01-4fbd-90a2-748dd1f752bb",
    "_uuid": "1db549165ef1e7df96d44755837042c5dde2b181",
    "collapsed": true
   },
   "outputs": [],
   "source": [
    "def Train(params,X_train,y_train,y_val):\n",
    "    cate_vars = []\n",
    "    dtrain = lgb.Dataset(X_train.drop(\"id\", axis = 1), label=y_train, categorical_feature=cate_vars)\n",
    "    dval = lgb.Dataset(X_val.drop(\"id\", axis = 1), label=y_val, reference=dtrain, categorical_feature=cate_vars)\n",
    "    bst = lgb.train(params, dtrain, num_boost_round=MAX_ROUNDS, valid_sets=[dtrain, dval], early_stopping_rounds=50, verbose_eval=100)\n",
    "    print(\"\\n\".join((\"%s: %.2f\" % x) for x in sorted(zip(X_train.columns, bst.feature_importance(\"gain\")), key=lambda x: x[1], reverse=True)))\n",
    "    return bst"
   ]
  },
  {
   "cell_type": "code",
   "execution_count": null,
   "metadata": {
    "_cell_guid": "8f433181-afe9-4a35-a25a-67120400118c",
    "_uuid": "d45b2fa45e800db8f702654ebee7aba66f25f340",
    "collapsed": true
   },
   "outputs": [],
   "source": [
    "def Predict(bst):\n",
    "    val_pred = []; test_pred = []\n",
    "    val_pred.append(bst.predict(X_val, num_iteration=bst.best_iteration or MAX_ROUNDS))\n",
    "    test_pred.append(bst.predict(test.drop(\"id\",axis =1), num_iteration=bst.best_iteration or MAX_ROUNDS))\n",
    "    return test_pred"
   ]
  },
  {
   "cell_type": "code",
   "execution_count": null,
   "metadata": {
    "_cell_guid": "0d5a5d95-06ad-4cba-904f-30a13736d272",
    "_uuid": "ec69243d7118e85a1c1986893d218e870e628f7a",
    "collapsed": true
   },
   "outputs": [],
   "source": [
    "def rmsle(h, y): \n",
    "    return np.sqrt(np.square(np.log1p(h) - np.log1p(y)).mean())"
   ]
  },
  {
   "cell_type": "code",
   "execution_count": null,
   "metadata": {
    "_cell_guid": "79777db5-dd02-41e8-9d1a-50aad6af452a",
    "_uuid": "f514f21d32776535108a4bec23da48aa813cbb1c",
    "collapsed": true
   },
   "outputs": [],
   "source": [
    "kf = KFold(n_splits = K, random_state = 3228, shuffle = True)"
   ]
  },
  {
   "cell_type": "code",
   "execution_count": null,
   "metadata": {
    "_cell_guid": "ae5e134c-273e-48e7-bd09-ca32f0bd5317",
    "_uuid": "182c062d7751a831b6f607dd66af9dbb598d1020",
    "collapsed": true
   },
   "outputs": [],
   "source": [
    "#train.iloc[train_index].count()"
   ]
  },
  {
   "cell_type": "code",
   "execution_count": null,
   "metadata": {
    "_cell_guid": "e9fe6ed2-f507-45dd-88de-bbc534c2936e",
    "_uuid": "8c871e2113d1574a347cceb20a9545939f440f1e",
    "scrolled": false
   },
   "outputs": [],
   "source": [
    "cnt=0\n",
    "for train_index, test_index in kf.split(train):\n",
    "    X_train,  X_val  = train.iloc[train_index], train.iloc[test_index]\n",
    "\n",
    "    y_train_1 = X_train['formation_energy_ev_natom']\n",
    "    y_train_2 = X_train[\"bandgap_energy_ev\"]\n",
    "\n",
    "    y_val_1 = X_val['formation_energy_ev_natom']\n",
    "    y_val_2 = X_val[\"bandgap_energy_ev\"]\n",
    "\n",
    "    X_train = X_train.drop([\"formation_energy_ev_natom\",\"bandgap_energy_ev\"],axis =1)\n",
    "    X_val = X_val.drop([\"formation_energy_ev_natom\",\"bandgap_energy_ev\"],axis =1)\n",
    "\n",
    "    params = {\n",
    "        'num_leaves': 7,\n",
    "        'objective': 'regression',\n",
    "        'min_data_in_leaf': 18,\n",
    "        'learning_rate': 0.05,\n",
    "        'feature_fraction': 0.93,\n",
    "        'bagging_fraction': 0.93,\n",
    "        'bagging_freq': 1,\n",
    "        'metric': 'l2',\n",
    "        'num_threads': 1\n",
    "    }\n",
    "    Model1 = Train(params, X_train, y_train_1, y_val_1)\n",
    "\n",
    "    params = {\n",
    "        'num_leaves': 8,\n",
    "        'objective': 'regression',\n",
    "        'min_data_in_leaf': 18,\n",
    "        'learning_rate': 0.035,\n",
    "        'feature_fraction': 0.95,\n",
    "        'bagging_fraction': 0.95,\n",
    "        'bagging_freq': 1,\n",
    "        'metric': 'l2',\n",
    "        'num_threads': 1\n",
    "    }\n",
    "    Model2 = Train(params, X_train, y_train_2, y_val_2)\n",
    "    pred1 = Predict(Model1)\n",
    "    pred2 = Predict(Model2)\n",
    "    if cnt == 0:\n",
    "        test_pred_1 = pred1[0] / K\n",
    "        test_pred_2 = pred2[0] / K\n",
    "    else:\n",
    "        test_pred_1 = test_pred_1 + pred1[0] / K\n",
    "        test_pred_2 = test_pred_2 + pred2[0] / K\n",
    "    cnt+=1\n"
   ]
  },
  {
   "cell_type": "code",
   "execution_count": null,
   "metadata": {
    "_cell_guid": "d54455a3-34c8-4eb6-8734-6c11910678c0",
    "_uuid": "30b9ede4f2db4ece5209a589914ca6217402ca05",
    "collapsed": true
   },
   "outputs": [],
   "source": [
    "sample = pd.read_csv(\"../input/sample_submission.csv\")\n",
    "sample[\"formation_energy_ev_natom\"] = np.expm1(test_pred_1)\n",
    "#np.expm1(pred1_)\n",
    "sample[\"bandgap_energy_ev\"] = np.expm1(test_pred_2)\n",
    "sample.to_csv(\"submission.csv\",index = False)"
   ]
  },
  {
   "cell_type": "code",
   "execution_count": null,
   "metadata": {
    "_cell_guid": "b05af11b-ee0f-45ae-b73c-9879cf7a64f0",
    "_uuid": "3ae0a0f0c248284e5a1e7f3b11b97f9d4b882345",
    "scrolled": true
   },
   "outputs": [],
   "source": [
    "sample"
   ]
  }
 ],
 "metadata": {
  "kernelspec": {
   "display_name": "Python 3",
   "language": "python",
   "name": "python3"
  },
  "language_info": {
   "codemirror_mode": {
    "name": "ipython",
    "version": 3
   },
   "file_extension": ".py",
   "mimetype": "text/x-python",
   "name": "python",
   "nbconvert_exporter": "python",
   "pygments_lexer": "ipython3",
   "version": "3.8.8"
  }
 },
 "nbformat": 4,
 "nbformat_minor": 1
}
